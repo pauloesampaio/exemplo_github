{
 "cells": [
  {
   "cell_type": "code",
   "execution_count": 1,
   "id": "muslim-brook",
   "metadata": {},
   "outputs": [],
   "source": [
    "import pandas as pd"
   ]
  },
  {
   "cell_type": "code",
   "execution_count": 4,
   "id": "organizational-worker",
   "metadata": {},
   "outputs": [],
   "source": [
    "test = pd.DataFrame([[1, 2, 3], [4,5,6]], columns=[\"a\", \"b\", \"c\"])"
   ]
  },
  {
   "cell_type": "code",
   "execution_count": 5,
   "id": "veterinary-bruce",
   "metadata": {},
   "outputs": [],
   "source": [
    "test.to_csv(\"exemplo_arquivo.csv\", index=False)"
   ]
  },
  {
   "cell_type": "code",
   "execution_count": null,
   "id": "amended-cooler",
   "metadata": {},
   "outputs": [],
   "source": []
  }
 ],
 "metadata": {
  "kernelspec": {
   "display_name": "Python 3",
   "language": "python",
   "name": "python3"
  },
  "language_info": {
   "codemirror_mode": {
    "name": "ipython",
    "version": 3
   },
   "file_extension": ".py",
   "mimetype": "text/x-python",
   "name": "python",
   "nbconvert_exporter": "python",
   "pygments_lexer": "ipython3",
   "version": "3.8.0"
  }
 },
 "nbformat": 4,
 "nbformat_minor": 5
}
